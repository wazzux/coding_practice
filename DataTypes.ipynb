{
 "cells": [
  {
   "cell_type": "code",
   "execution_count": 1,
   "id": "a6b4d1fc-d6ef-46de-9fb1-ab4082c0eb8f",
   "metadata": {},
   "outputs": [],
   "source": [
    "X=3"
   ]
  },
  {
   "cell_type": "code",
   "execution_count": 2,
   "id": "f97daebd-96e4-46bd-98d0-089325f6bae1",
   "metadata": {},
   "outputs": [
    {
     "data": {
      "text/plain": [
       "3"
      ]
     },
     "execution_count": 2,
     "metadata": {},
     "output_type": "execute_result"
    }
   ],
   "source": [
    "X"
   ]
  },
  {
   "cell_type": "markdown",
   "id": "472f4708-5de8-4f1d-bfb1-c9b98e4cfa2b",
   "metadata": {},
   "source": [
    "<h2>數值資料型態<h2>"
   ]
  },
  {
   "cell_type": "code",
   "execution_count": 4,
   "id": "2e7b143b-eb99-4a29-be27-f2213a9af4ff",
   "metadata": {},
   "outputs": [],
   "source": [
    "# var1是一個參考,參考到一記憶體位置\n",
    "# var1相當於c的pointer\n",
    "var1=10"
   ]
  },
  {
   "cell_type": "code",
   "execution_count": 5,
   "id": "f229b630-58be-4aef-b3cd-826537f2ef2a",
   "metadata": {},
   "outputs": [],
   "source": [
    "# 改變var1參考的位置\n",
    "var1=20"
   ]
  },
  {
   "cell_type": "code",
   "execution_count": 6,
   "id": "7dab54ab-7d59-4ffb-8cf0-319e96fd3f5c",
   "metadata": {},
   "outputs": [
    {
     "data": {
      "text/plain": [
       "20"
      ]
     },
     "execution_count": 6,
     "metadata": {},
     "output_type": "execute_result"
    }
   ],
   "source": [
    "var1"
   ]
  },
  {
   "cell_type": "markdown",
   "id": "7cc28bf2-9b96-4db5-a91e-f825d4f3874f",
   "metadata": {},
   "source": [
    "### 布林值是整數的子型態"
   ]
  },
  {
   "cell_type": "code",
   "execution_count": 7,
   "id": "d3967951-43ec-48c3-89a8-e3182f962131",
   "metadata": {},
   "outputs": [
    {
     "data": {
      "text/plain": [
       "True"
      ]
     },
     "execution_count": 7,
     "metadata": {},
     "output_type": "execute_result"
    }
   ],
   "source": [
    "True"
   ]
  },
  {
   "cell_type": "code",
   "execution_count": 8,
   "id": "d603e37a-ff7f-43a3-a68f-f7e677a19b46",
   "metadata": {},
   "outputs": [
    {
     "data": {
      "text/plain": [
       "7"
      ]
     },
     "execution_count": 8,
     "metadata": {},
     "output_type": "execute_result"
    }
   ],
   "source": [
    "True + 6"
   ]
  },
  {
   "cell_type": "code",
   "execution_count": 9,
   "id": "5a3b8448-a298-445f-8b8e-0f231b5897fe",
   "metadata": {},
   "outputs": [
    {
     "data": {
      "text/plain": [
       "-2"
      ]
     },
     "execution_count": 9,
     "metadata": {},
     "output_type": "execute_result"
    }
   ],
   "source": [
    "False -2"
   ]
  },
  {
   "cell_type": "code",
   "execution_count": 10,
   "id": "58b83434-eb02-410a-b59b-6e07e2ce3575",
   "metadata": {},
   "outputs": [
    {
     "ename": "OverflowError",
     "evalue": "(34, 'Result too large')",
     "output_type": "error",
     "traceback": [
      "\u001b[1;31m---------------------------------------------------------------------------\u001b[0m",
      "\u001b[1;31mOverflowError\u001b[0m                             Traceback (most recent call last)",
      "Cell \u001b[1;32mIn[10], line 1\u001b[0m\n\u001b[1;32m----> 1\u001b[0m \u001b[38;5;241;43m99.0\u001b[39;49m\u001b[38;5;241;43m*\u001b[39;49m\u001b[38;5;241;43m*\u001b[39;49m\u001b[38;5;241;43m999\u001b[39;49m\n",
      "\u001b[1;31mOverflowError\u001b[0m: (34, 'Result too large')"
     ]
    }
   ],
   "source": [
    "99.0**999"
   ]
  },
  {
   "cell_type": "code",
   "execution_count": 11,
   "id": "9be54434-70aa-4781-8c8a-079f2635a65c",
   "metadata": {},
   "outputs": [
    {
     "data": {
      "text/plain": [
       "98901"
      ]
     },
     "execution_count": 11,
     "metadata": {},
     "output_type": "execute_result"
    }
   ],
   "source": [
    "99*999"
   ]
  },
  {
   "cell_type": "code",
   "execution_count": 12,
   "id": "b2549100-a77f-4a7e-90ab-85c2975b841f",
   "metadata": {},
   "outputs": [
    {
     "data": {
      "text/plain": [
       "43607320616826516150134170338646201223107986075620608122042152718341096569545917590671870901580903358089476539623429084337462072232323071988487722379025918136755324190771905744346299895101262599307041418954741821869968434014360426644150217367535228232882075278549084725532810757690211467541802733062351872629554887071558565105695677775800388952822060307618460889511910384740346745943545064075415717782672023429351183468901656480345653681279807760503885914267068619022794752754526226771965509515429769648943853393239466825581612114199388796846713698917724135481280269758239887617123242806941909343309827534698631895049620931536029044672739890893731191572695394918757396075233400643214858118180583796749973549192881847496687493228681933883471419305060028239670757748730500105612756664893487357552376496719298602670598130493347017948692042081377598537358748002952547169866050883302508349720700651016938696180158800498316548501175152775533119976607827063817490547330402728524591368881264569985453491886319052131328728570583818564408673363285874627267673252785057700907094407300537042771693320295830608507458585348221347122499594911138477627406334364083621560827029793286395456214852438250303387531773235681535933473521419169488498159152761557826192742496821559991415227170097504961476506200211299335714069542688981875338616104136244975260096287855709071756715604259948711756265446540708637145010756617391517706049935039684935491582597441963211160507086049676500663852688906531131555974645591096814621093225847864090909267239163899350786582783841798570024502259541481335139715410637523456696273629960402393128908813871826086839104466371057841461548132615966946230528245048730192919253049295790150492481440313287274889457554062183833564917170760547521002721621831858497390536681773386602450057910854295098455215379515799387105287701204877340476212991327443730608598868554899539340943577841165431687252557996668355126634828795393392192731183338157723722131288855592435620519974479953860308528414089899"
      ]
     },
     "execution_count": 12,
     "metadata": {},
     "output_type": "execute_result"
    }
   ],
   "source": [
    "99**999"
   ]
  },
  {
   "cell_type": "code",
   "execution_count": 13,
   "id": "0161b91c-4275-4855-a399-28b17c3caca6",
   "metadata": {},
   "outputs": [
    {
     "data": {
      "text/plain": [
       "13"
      ]
     },
     "execution_count": 13,
     "metadata": {},
     "output_type": "execute_result"
    }
   ],
   "source": [
    "# 二進位\n",
    "0B1101"
   ]
  },
  {
   "cell_type": "code",
   "execution_count": 14,
   "id": "8dfff753-99d5-4a2a-a08b-f4b1760255fb",
   "metadata": {},
   "outputs": [
    {
     "data": {
      "text/plain": [
       "27"
      ]
     },
     "execution_count": 14,
     "metadata": {},
     "output_type": "execute_result"
    }
   ],
   "source": [
    "0o33"
   ]
  },
  {
   "cell_type": "code",
   "execution_count": 15,
   "id": "836d3c7c-dfa8-48f4-829b-566c126ba0e2",
   "metadata": {},
   "outputs": [
    {
     "data": {
      "text/plain": [
       "33"
      ]
     },
     "execution_count": 15,
     "metadata": {},
     "output_type": "execute_result"
    }
   ],
   "source": [
    "int(33.6)"
   ]
  },
  {
   "cell_type": "code",
   "execution_count": 16,
   "id": "661f592d-64e6-402f-90ce-a4e21712512b",
   "metadata": {},
   "outputs": [
    {
     "data": {
      "text/plain": [
       "745"
      ]
     },
     "execution_count": 16,
     "metadata": {},
     "output_type": "execute_result"
    }
   ],
   "source": [
    "int('745')"
   ]
  },
  {
   "cell_type": "code",
   "execution_count": 17,
   "id": "3e0d28e6-dd67-495c-9269-1d62c637e23f",
   "metadata": {},
   "outputs": [
    {
     "data": {
      "text/plain": [
       "34.112"
      ]
     },
     "execution_count": 17,
     "metadata": {},
     "output_type": "execute_result"
    }
   ],
   "source": [
    "float('34.112')"
   ]
  },
  {
   "cell_type": "markdown",
   "id": "69347d3b-36e7-4990-a897-f457be0fb46c",
   "metadata": {},
   "source": [
    "### 凡事皆物件"
   ]
  },
  {
   "cell_type": "code",
   "execution_count": 18,
   "id": "c0b413ff-4404-4144-9a8e-8c6107c610a3",
   "metadata": {},
   "outputs": [],
   "source": [
    "x=100"
   ]
  },
  {
   "cell_type": "code",
   "execution_count": 19,
   "id": "664c9ca6-b02e-49fe-9cbd-8448a9cfb000",
   "metadata": {},
   "outputs": [
    {
     "data": {
      "text/plain": [
       "140714628957720"
      ]
     },
     "execution_count": 19,
     "metadata": {},
     "output_type": "execute_result"
    }
   ],
   "source": [
    "# x參考的記憶體位置\n",
    "id(x)"
   ]
  },
  {
   "cell_type": "code",
   "execution_count": 22,
   "id": "0e4db7bd-b03a-401f-bbc4-592662ca6501",
   "metadata": {},
   "outputs": [
    {
     "data": {
      "text/plain": [
       "int"
      ]
     },
     "execution_count": 22,
     "metadata": {},
     "output_type": "execute_result"
    }
   ],
   "source": [
    "# x的資料型態\n",
    "type(x)"
   ]
  },
  {
   "cell_type": "code",
   "execution_count": 23,
   "id": "86b26b87-7990-41b1-977a-3d07d836dbb9",
   "metadata": {},
   "outputs": [
    {
     "data": {
      "text/plain": [
       "100"
      ]
     },
     "execution_count": 23,
     "metadata": {},
     "output_type": "execute_result"
    }
   ],
   "source": [
    "# x參考到的值\n",
    "x"
   ]
  },
  {
   "cell_type": "code",
   "execution_count": 24,
   "id": "8b71b43c-9cbc-4670-9a98-2dd7501cc2f5",
   "metadata": {},
   "outputs": [
    {
     "data": {
      "text/plain": [
       "300"
      ]
     },
     "execution_count": 24,
     "metadata": {},
     "output_type": "execute_result"
    }
   ],
   "source": [
    "m=300\n",
    "m"
   ]
  },
  {
   "cell_type": "code",
   "execution_count": 25,
   "id": "72c86331-f928-4233-9ef6-374d8ec847ff",
   "metadata": {},
   "outputs": [
    {
     "data": {
      "text/plain": [
       "2066432678576"
      ]
     },
     "execution_count": 25,
     "metadata": {},
     "output_type": "execute_result"
    }
   ],
   "source": [
    "id(m)"
   ]
  },
  {
   "cell_type": "code",
   "execution_count": 26,
   "id": "1cc0e925-9784-4f39-a8ac-34c051cd09aa",
   "metadata": {},
   "outputs": [
    {
     "data": {
      "text/plain": [
       "300"
      ]
     },
     "execution_count": 26,
     "metadata": {},
     "output_type": "execute_result"
    }
   ],
   "source": [
    "n=300\n",
    "n"
   ]
  },
  {
   "cell_type": "code",
   "execution_count": 27,
   "id": "f97841e5-92ce-498d-a609-75bf2df8f10f",
   "metadata": {},
   "outputs": [
    {
     "data": {
      "text/plain": [
       "2066426969744"
      ]
     },
     "execution_count": 27,
     "metadata": {},
     "output_type": "execute_result"
    }
   ],
   "source": [
    "id(n)"
   ]
  },
  {
   "cell_type": "markdown",
   "id": "56479a93-54ad-4aa7-9b19-0ef253e8378b",
   "metadata": {},
   "source": [
    "### 比較運算子"
   ]
  },
  {
   "cell_type": "code",
   "execution_count": 28,
   "id": "0bae458b-d4e1-4c26-9a95-1cc74b9b7e11",
   "metadata": {},
   "outputs": [],
   "source": [
    "x,y,z=3,6,2"
   ]
  },
  {
   "cell_type": "code",
   "execution_count": 29,
   "id": "582b0e97-0ebc-4ae5-a990-0907c265387a",
   "metadata": {},
   "outputs": [
    {
     "data": {
      "text/plain": [
       "True"
      ]
     },
     "execution_count": 29,
     "metadata": {},
     "output_type": "execute_result"
    }
   ],
   "source": [
    "# Java : X<Y && Y>Z\n",
    "x<y>z"
   ]
  },
  {
   "cell_type": "code",
   "execution_count": 30,
   "id": "b9de6494-736a-416a-bd26-1359f831efe9",
   "metadata": {},
   "outputs": [
    {
     "data": {
      "text/plain": [
       "True"
      ]
     },
     "execution_count": 30,
     "metadata": {},
     "output_type": "execute_result"
    }
   ],
   "source": [
    "55>33<44"
   ]
  },
  {
   "cell_type": "code",
   "execution_count": 31,
   "id": "c62b9c81-9526-4a8b-9a1a-79fdb286f550",
   "metadata": {},
   "outputs": [
    {
     "data": {
      "text/plain": [
       "3"
      ]
     },
     "execution_count": 31,
     "metadata": {},
     "output_type": "execute_result"
    }
   ],
   "source": [
    "(x<y>z)*3"
   ]
  },
  {
   "cell_type": "markdown",
   "id": "f454d43e-56cd-46f3-b3b3-3b0bd856ffc0",
   "metadata": {},
   "source": [
    "### 邏輯運算子"
   ]
  },
  {
   "cell_type": "code",
   "execution_count": 32,
   "id": "7de985cb-aa24-4b45-9e9b-31e169a2da35",
   "metadata": {},
   "outputs": [
    {
     "data": {
      "text/plain": [
       "0"
      ]
     },
     "execution_count": 32,
     "metadata": {},
     "output_type": "execute_result"
    }
   ],
   "source": [
    "0 and 7"
   ]
  },
  {
   "cell_type": "code",
   "execution_count": 34,
   "id": "09029135-ba71-445f-89d9-018cc0faea17",
   "metadata": {},
   "outputs": [
    {
     "data": {
      "text/plain": [
       "7"
      ]
     },
     "execution_count": 34,
     "metadata": {},
     "output_type": "execute_result"
    }
   ],
   "source": [
    "# python 非零就是true,零就是false\n",
    "0 or 7"
   ]
  },
  {
   "cell_type": "code",
   "execution_count": 35,
   "id": "84543baf-252d-4b20-b0ca-86dde5cf5ba7",
   "metadata": {},
   "outputs": [
    {
     "data": {
      "text/plain": [
       "22"
      ]
     },
     "execution_count": 35,
     "metadata": {},
     "output_type": "execute_result"
    }
   ],
   "source": [
    "18 and 22"
   ]
  },
  {
   "cell_type": "markdown",
   "id": "e0412e95-5a98-40aa-91f6-68424ed2e6d0",
   "metadata": {},
   "source": [
    "### Identity運算子"
   ]
  },
  {
   "cell_type": "code",
   "execution_count": 36,
   "id": "20b6a1a3-e200-4a9a-aab5-74c2c729d446",
   "metadata": {},
   "outputs": [],
   "source": [
    "x,y=500,500"
   ]
  },
  {
   "cell_type": "code",
   "execution_count": 37,
   "id": "fd0f002a-5c95-4661-984c-c10f637b44b6",
   "metadata": {},
   "outputs": [
    {
     "data": {
      "text/plain": [
       "500"
      ]
     },
     "execution_count": 37,
     "metadata": {},
     "output_type": "execute_result"
    }
   ],
   "source": [
    "x"
   ]
  },
  {
   "cell_type": "code",
   "execution_count": 38,
   "id": "09373ab2-bc45-4c33-987e-318f301a6ae7",
   "metadata": {},
   "outputs": [
    {
     "data": {
      "text/plain": [
       "500"
      ]
     },
     "execution_count": 38,
     "metadata": {},
     "output_type": "execute_result"
    }
   ],
   "source": [
    "y"
   ]
  },
  {
   "cell_type": "code",
   "execution_count": 39,
   "id": "f2bda95f-1566-4904-b296-187954a28261",
   "metadata": {},
   "outputs": [
    {
     "data": {
      "text/plain": [
       "True"
      ]
     },
     "execution_count": 39,
     "metadata": {},
     "output_type": "execute_result"
    }
   ],
   "source": [
    "x==y"
   ]
  },
  {
   "cell_type": "code",
   "execution_count": 40,
   "id": "c01664e4-a181-40a9-a1f6-73936215aad0",
   "metadata": {},
   "outputs": [
    {
     "data": {
      "text/plain": [
       "True"
      ]
     },
     "execution_count": 40,
     "metadata": {},
     "output_type": "execute_result"
    }
   ],
   "source": [
    "x is y"
   ]
  },
  {
   "cell_type": "code",
   "execution_count": 41,
   "id": "0411eaf0-8141-4882-abf4-9dbf638f61ea",
   "metadata": {},
   "outputs": [
    {
     "data": {
      "text/plain": [
       "True"
      ]
     },
     "execution_count": 41,
     "metadata": {},
     "output_type": "execute_result"
    }
   ],
   "source": [
    "id(x)==id(y)"
   ]
  },
  {
   "cell_type": "code",
   "execution_count": null,
   "id": "0d3e6260-229a-449f-8246-384a6b519f19",
   "metadata": {},
   "outputs": [],
   "source": []
  },
  {
   "cell_type": "code",
   "execution_count": 42,
   "id": "d2e658d9-37a7-49d1-a6bf-005b925eaaf7",
   "metadata": {},
   "outputs": [],
   "source": [
    "o=500"
   ]
  },
  {
   "cell_type": "code",
   "execution_count": 43,
   "id": "be1a0d1c-8522-44e7-9801-0fbe28662aa3",
   "metadata": {},
   "outputs": [
    {
     "data": {
      "text/plain": [
       "500"
      ]
     },
     "execution_count": 43,
     "metadata": {},
     "output_type": "execute_result"
    }
   ],
   "source": [
    "o"
   ]
  },
  {
   "cell_type": "code",
   "execution_count": 44,
   "id": "98d5baa3-7cf5-429d-a29a-d5fbf320eeed",
   "metadata": {},
   "outputs": [
    {
     "data": {
      "text/plain": [
       "500"
      ]
     },
     "execution_count": 44,
     "metadata": {},
     "output_type": "execute_result"
    }
   ],
   "source": [
    "p=500\n",
    "p"
   ]
  },
  {
   "cell_type": "code",
   "execution_count": 45,
   "id": "59ef1486-ecea-4bd8-96b3-117db115359b",
   "metadata": {},
   "outputs": [
    {
     "data": {
      "text/plain": [
       "True"
      ]
     },
     "execution_count": 45,
     "metadata": {},
     "output_type": "execute_result"
    }
   ],
   "source": [
    "p==o"
   ]
  },
  {
   "cell_type": "code",
   "execution_count": 46,
   "id": "b5879bf0-466c-42df-9cef-486c60039a1c",
   "metadata": {},
   "outputs": [
    {
     "data": {
      "text/plain": [
       "False"
      ]
     },
     "execution_count": 46,
     "metadata": {},
     "output_type": "execute_result"
    }
   ],
   "source": [
    "p is o"
   ]
  },
  {
   "cell_type": "code",
   "execution_count": 48,
   "id": "d3f4362c-b196-418d-abb5-18f9ccfa8380",
   "metadata": {},
   "outputs": [
    {
     "data": {
      "text/plain": [
       "False"
      ]
     },
     "execution_count": 48,
     "metadata": {},
     "output_type": "execute_result"
    }
   ],
   "source": [
    "id(p)==id(o)"
   ]
  },
  {
   "cell_type": "markdown",
   "id": "0f4e0d55-0361-4286-97c0-9dac9269c2af",
   "metadata": {},
   "source": [
    "### 文字資料型態"
   ]
  },
  {
   "cell_type": "code",
   "execution_count": 52,
   "id": "25d9543c-ba01-4752-98c1-147a863cb119",
   "metadata": {},
   "outputs": [],
   "source": [
    "mystr='''a\n",
    "\\t c'''"
   ]
  },
  {
   "cell_type": "markdown",
   "id": "93f51abf-1ae8-49ba-98bc-41dd90d716f3",
   "metadata": {},
   "source": [
    "mystr"
   ]
  },
  {
   "cell_type": "code",
   "execution_count": 54,
   "id": "0450e882-69e0-4fc3-beff-a2a64f5b58f9",
   "metadata": {},
   "outputs": [
    {
     "name": "stdout",
     "output_type": "stream",
     "text": [
      "a\n",
      "\t c\n"
     ]
    }
   ],
   "source": [
    "print(mystr)"
   ]
  },
  {
   "cell_type": "code",
   "execution_count": 55,
   "id": "1829ccbb-468e-4949-a4de-e6942d53632f",
   "metadata": {},
   "outputs": [
    {
     "name": "stdout",
     "output_type": "stream",
     "text": [
      "33\n"
     ]
    }
   ],
   "source": [
    "a=33\n",
    "print(a)"
   ]
  },
  {
   "cell_type": "code",
   "execution_count": 56,
   "id": "99b728f2-82ac-42f5-b400-2b8492824c06",
   "metadata": {},
   "outputs": [],
   "source": [
    "b='33'"
   ]
  },
  {
   "cell_type": "code",
   "execution_count": 57,
   "id": "dd5f8557-16e4-4ec3-a35c-4e74afd0017b",
   "metadata": {},
   "outputs": [
    {
     "name": "stdout",
     "output_type": "stream",
     "text": [
      "33\n"
     ]
    }
   ],
   "source": [
    "print(b)"
   ]
  },
  {
   "cell_type": "code",
   "execution_count": 58,
   "id": "b5a3119a-89e5-4cf0-b2ca-a56640a29dc5",
   "metadata": {},
   "outputs": [
    {
     "data": {
      "text/plain": [
       "'33'"
      ]
     },
     "execution_count": 58,
     "metadata": {},
     "output_type": "execute_result"
    }
   ],
   "source": [
    "a\n",
    "b"
   ]
  },
  {
   "cell_type": "code",
   "execution_count": 59,
   "id": "3d586b34-8e97-4b09-93bc-cd9b4a5e696d",
   "metadata": {},
   "outputs": [
    {
     "data": {
      "text/plain": [
       "33"
      ]
     },
     "execution_count": 59,
     "metadata": {},
     "output_type": "execute_result"
    }
   ],
   "source": [
    "a\n"
   ]
  },
  {
   "cell_type": "code",
   "execution_count": 61,
   "id": "8a12c3c0-8f48-4b73-b219-9954ea120b3e",
   "metadata": {},
   "outputs": [
    {
     "data": {
      "text/plain": [
       "True"
      ]
     },
     "execution_count": 61,
     "metadata": {},
     "output_type": "execute_result"
    }
   ],
   "source": [
    "'3' in b"
   ]
  },
  {
   "cell_type": "code",
   "execution_count": 62,
   "id": "07c83004-47e1-4dae-a460-734ee51a6f61",
   "metadata": {},
   "outputs": [
    {
     "ename": "TypeError",
     "evalue": "'str' object does not support item assignment",
     "output_type": "error",
     "traceback": [
      "\u001b[1;31m---------------------------------------------------------------------------\u001b[0m",
      "\u001b[1;31mTypeError\u001b[0m                                 Traceback (most recent call last)",
      "Cell \u001b[1;32mIn[62], line 1\u001b[0m\n\u001b[1;32m----> 1\u001b[0m \u001b[43mb\u001b[49m\u001b[43m[\u001b[49m\u001b[38;5;241;43m0\u001b[39;49m\u001b[43m]\u001b[49m\u001b[38;5;241m=\u001b[39m\u001b[38;5;124m'\u001b[39m\u001b[38;5;124ma\u001b[39m\u001b[38;5;124m'\u001b[39m\n",
      "\u001b[1;31mTypeError\u001b[0m: 'str' object does not support item assignment"
     ]
    }
   ],
   "source": [
    "b[0]='a'"
   ]
  },
  {
   "cell_type": "code",
   "execution_count": 63,
   "id": "5d381a88-468b-4c80-bf58-beeeddebe9c4",
   "metadata": {},
   "outputs": [
    {
     "data": {
      "text/plain": [
       "'hellopython'"
      ]
     },
     "execution_count": 63,
     "metadata": {},
     "output_type": "execute_result"
    }
   ],
   "source": [
    "'hello'+'python'"
   ]
  },
  {
   "cell_type": "code",
   "execution_count": 64,
   "id": "fb874348-eac2-457f-ab60-5720e1d5c568",
   "metadata": {},
   "outputs": [
    {
     "data": {
      "text/plain": [
       "'33'"
      ]
     },
     "execution_count": 64,
     "metadata": {},
     "output_type": "execute_result"
    }
   ],
   "source": [
    "b"
   ]
  },
  {
   "cell_type": "code",
   "execution_count": 65,
   "id": "2fa58df6-6dff-4fe3-ace2-e72d75b6a145",
   "metadata": {},
   "outputs": [
    {
     "data": {
      "text/plain": [
       "'333333'"
      ]
     },
     "execution_count": 65,
     "metadata": {},
     "output_type": "execute_result"
    }
   ],
   "source": [
    "3*b"
   ]
  },
  {
   "cell_type": "markdown",
   "id": "fa5de177-eb91-4f80-adde-290406e1d486",
   "metadata": {},
   "source": [
    "### slice"
   ]
  },
  {
   "cell_type": "code",
   "execution_count": 67,
   "id": "f53ac0b1-3280-4e92-8cfc-3761c682295e",
   "metadata": {},
   "outputs": [],
   "source": [
    "mystr='hello ptyhon'"
   ]
  },
  {
   "cell_type": "code",
   "execution_count": 68,
   "id": "3be1cc45-0d62-4473-9f5f-df2e60fc36c6",
   "metadata": {},
   "outputs": [
    {
     "data": {
      "text/plain": [
       "'ello'"
      ]
     },
     "execution_count": 68,
     "metadata": {},
     "output_type": "execute_result"
    }
   ],
   "source": [
    "mystr[1:5] #1~4"
   ]
  },
  {
   "cell_type": "code",
   "execution_count": 69,
   "id": "f22a82aa-4f68-4e3e-9f5e-85f7ae086d1a",
   "metadata": {},
   "outputs": [
    {
     "data": {
      "text/plain": [
       "'hello p'"
      ]
     },
     "execution_count": 69,
     "metadata": {},
     "output_type": "execute_result"
    }
   ],
   "source": [
    "mystr[:7] #0~6"
   ]
  },
  {
   "cell_type": "code",
   "execution_count": 70,
   "id": "d3444728-6b24-4958-bd9b-66413659d93f",
   "metadata": {},
   "outputs": [
    {
     "data": {
      "text/plain": [
       "'llo ptyhon'"
      ]
     },
     "execution_count": 70,
     "metadata": {},
     "output_type": "execute_result"
    }
   ],
   "source": [
    "mystr[2:] #3~"
   ]
  },
  {
   "cell_type": "code",
   "execution_count": 71,
   "id": "e5639483-d24c-4ff1-95de-0c04109daa8e",
   "metadata": {},
   "outputs": [
    {
     "data": {
      "text/plain": [
       "'el t'"
      ]
     },
     "execution_count": 71,
     "metadata": {},
     "output_type": "execute_result"
    }
   ],
   "source": [
    "mystr[1:8:2]  #2~7 跳兩格"
   ]
  },
  {
   "cell_type": "code",
   "execution_count": 74,
   "id": "aa809d6b-a065-4cd0-ba7e-b5be6cf41140",
   "metadata": {},
   "outputs": [
    {
     "data": {
      "text/plain": [
       "'o ptyho'"
      ]
     },
     "execution_count": 74,
     "metadata": {},
     "output_type": "execute_result"
    }
   ],
   "source": [
    "mystr[4:-1] # 5~倒數第二"
   ]
  },
  {
   "cell_type": "code",
   "execution_count": 75,
   "id": "d2f9b238-ed9d-4c81-b893-2ed42f3fd885",
   "metadata": {},
   "outputs": [
    {
     "data": {
      "text/plain": [
       "'nohytp olleh'"
      ]
     },
     "execution_count": 75,
     "metadata": {},
     "output_type": "execute_result"
    }
   ],
   "source": [
    "mystr[::-1] # 倒過來寫"
   ]
  },
  {
   "cell_type": "code",
   "execution_count": null,
   "id": "6dfbb425-163d-46c0-9ee3-ee24db53e213",
   "metadata": {},
   "outputs": [],
   "source": []
  }
 ],
 "metadata": {
  "kernelspec": {
   "display_name": "Python 3 (ipykernel)",
   "language": "python",
   "name": "python3"
  },
  "language_info": {
   "codemirror_mode": {
    "name": "ipython",
    "version": 3
   },
   "file_extension": ".py",
   "mimetype": "text/x-python",
   "name": "python",
   "nbconvert_exporter": "python",
   "pygments_lexer": "ipython3",
   "version": "3.12.1"
  }
 },
 "nbformat": 4,
 "nbformat_minor": 5
}
